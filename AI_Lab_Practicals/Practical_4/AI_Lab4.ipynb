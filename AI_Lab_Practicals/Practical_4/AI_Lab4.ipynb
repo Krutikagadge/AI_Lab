{
 "cells": [
  {
   "cell_type": "code",
   "execution_count": 2,
   "id": "235a10d9-8eae-4c78-9fc3-267bdaa4cde7",
   "metadata": {},
   "outputs": [
    {
     "name": "stdout",
     "output_type": "stream",
     "text": [
      "Original Text: Both Talmuds are arranged according to the six orders of the Mishnah, but the discussion of the Mishnic text often wanders off into widely different topics.\n",
      "\n",
      "Tokenized Words: ['Both', 'Talmuds', 'are', 'arranged', 'according', 'to', 'the', 'six', 'orders', 'of', 'the', 'Mishnah', ',', 'but', 'the', 'discussion', 'of', 'the', 'Mishnic', 'text', 'often', 'wanders', 'off', 'into', 'widely', 'different', 'topics', '.']\n",
      "\n",
      "Tokenized Sentences: ['Both Talmuds are arranged according to the six orders of the Mishnah, but the discussion of the Mishnic text often wanders off into widely different topics.']\n",
      "\n",
      "Filtered Words (Stopword Removal): ['Talmuds', 'arranged', 'according', 'six', 'orders', 'Mishnah', ',', 'discussion', 'Mishnic', 'text', 'often', 'wanders', 'widely', 'different', 'topics', '.']\n",
      "\n",
      "Stemmed Words: ['talmud', 'arrang', 'accord', 'six', 'order', 'mishnah', ',', 'discuss', 'mishnic', 'text', 'often', 'wander', 'wide', 'differ', 'topic', '.']\n",
      "\n",
      "Lemmatized Words: ['Talmuds', 'arranged', 'according', 'six', 'order', 'Mishnah', ',', 'discussion', 'Mishnic', 'text', 'often', 'wanders', 'widely', 'different', 'topic', '.']\n"
     ]
    },
    {
     "name": "stderr",
     "output_type": "stream",
     "text": [
      "[nltk_data] Downloading package punkt to\n",
      "[nltk_data]     C:\\Users\\kgadg\\AppData\\Roaming\\nltk_data...\n",
      "[nltk_data]   Package punkt is already up-to-date!\n",
      "[nltk_data] Downloading package stopwords to\n",
      "[nltk_data]     C:\\Users\\kgadg\\AppData\\Roaming\\nltk_data...\n",
      "[nltk_data]   Package stopwords is already up-to-date!\n",
      "[nltk_data] Downloading package wordnet to\n",
      "[nltk_data]     C:\\Users\\kgadg\\AppData\\Roaming\\nltk_data...\n",
      "[nltk_data]   Package wordnet is already up-to-date!\n",
      "[nltk_data] Downloading package punkt_tab to\n",
      "[nltk_data]     C:\\Users\\kgadg\\AppData\\Roaming\\nltk_data...\n",
      "[nltk_data]   Package punkt_tab is already up-to-date!\n"
     ]
    }
   ],
   "source": [
    "#Introduction to open source NLP tools like NLTK, etc.\n",
    "\n",
    "sample_text = \"Both Talmuds are arranged according to the six orders of the Mishnah, but the discussion of the Mishnic text often wanders off into widely different topics.\"\n",
    "\n",
    "# Importing Libraries\n",
    "import nltk\n",
    "from nltk.tokenize import word_tokenize, sent_tokenize\n",
    "from nltk.corpus import stopwords\n",
    "from nltk.stem import PorterStemmer, WordNetLemmatizer\n",
    "\n",
    "# Download required datasets\n",
    "nltk.download('punkt')\n",
    "nltk.download('stopwords')\n",
    "nltk.download('wordnet')\n",
    "nltk.download('punkt_tab')\n",
    "\n",
    "# Tokenization\n",
    "words = word_tokenize(sample_text)\n",
    "sentences = sent_tokenize(sample_text)\n",
    "\n",
    "# Stopword Removal\n",
    "stop_words = set(stopwords.words('english'))\n",
    "filtered_words = [word for word in words if word.lower() not in stop_words]\n",
    "\n",
    "# Stemming\n",
    "stemmer = PorterStemmer()\n",
    "stemmed_words = [stemmer.stem(word) for word in filtered_words]\n",
    "\n",
    "# Lemmatization\n",
    "lemmatizer = WordNetLemmatizer()\n",
    "lemmatized_words = [lemmatizer.lemmatize(word) for word in filtered_words]\n",
    "\n",
    "# Output Results\n",
    "print(\"Original Text:\", sample_text)\n",
    "print(\"\\nTokenized Words:\", words)\n",
    "print(\"\\nTokenized Sentences:\", sentences)\n",
    "print(\"\\nFiltered Words (Stopword Removal):\", filtered_words)\n",
    "print(\"\\nStemmed Words:\", stemmed_words)\n",
    "print(\"\\nLemmatized Words:\", lemmatized_words)"
   ]
  },
  {
   "cell_type": "code",
   "execution_count": null,
   "id": "eacf3798-b4ee-469d-825e-dc131448c097",
   "metadata": {},
   "outputs": [],
   "source": []
  },
  {
   "cell_type": "code",
   "execution_count": null,
   "id": "ca710249-5fc6-48f9-973a-7004f7674194",
   "metadata": {},
   "outputs": [],
   "source": []
  }
 ],
 "metadata": {
  "kernelspec": {
   "display_name": "Python 3 (ipykernel)",
   "language": "python",
   "name": "python3"
  },
  "language_info": {
   "codemirror_mode": {
    "name": "ipython",
    "version": 3
   },
   "file_extension": ".py",
   "mimetype": "text/x-python",
   "name": "python",
   "nbconvert_exporter": "python",
   "pygments_lexer": "ipython3",
   "version": "3.12.8"
  }
 },
 "nbformat": 4,
 "nbformat_minor": 5
}
