{
 "cells": [
  {
   "cell_type": "code",
   "execution_count": null,
   "id": "7806080f-a4cb-477f-ba99-40637a183539",
   "metadata": {},
   "outputs": [],
   "source": []
  }
 ],
 "metadata": {
  "kernelspec": {
   "display_name": "",
   "name": ""
  },
  "language_info": {
   "name": ""
  }
 },
 "nbformat": 4,
 "nbformat_minor": 5
}
