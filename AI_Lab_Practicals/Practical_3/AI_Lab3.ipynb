{
 "cells": [
  {
   "cell_type": "code",
   "execution_count": 1,
   "id": "7806080f-a4cb-477f-ba99-40637a183539",
   "metadata": {},
   "outputs": [
    {
     "name": "stdout",
     "output_type": "stream",
     "text": [
      "Q . . . . . . .\n",
      ". . . . . . Q .\n",
      ". . . . Q . . .\n",
      ". . . . . . . Q\n",
      ". Q . . . . . .\n",
      ". . . Q . . . .\n",
      ". . . . . Q . .\n",
      ". . Q . . . . .\n",
      "\n"
     ]
    }
   ],
   "source": [
    "N = 8\n",
    "def solveNQueens(boards, col):\n",
    "    if col == N:\n",
    "        printBoard(board)\n",
    "        return True\n",
    "    for i in range(N):\n",
    "        if isSafe(board, i, col):\n",
    "            board[i][col] = 1\n",
    "            if solveNQueens(board, col + 1):\n",
    "                return True\n",
    "            board[i][col] = 0\n",
    "    return False\n",
    "\n",
    "def isSafe(board, row, col):\n",
    "    for x in range(col):\n",
    "        if board[row][x] == 1:\n",
    "            return False\n",
    "\n",
    "    for x, y in zip(range(row, -1, -1), range(col, -1, -1)):\n",
    "        if board[x][y] == 1:\n",
    "            return False\n",
    "\n",
    "    for x, y in zip(range(row, N, 1), range(col, -1, -1)):\n",
    "        if board[x][y] == 1:\n",
    "            return False\n",
    "\n",
    "    return True\n",
    "\n",
    "def printBoard(board):\n",
    "    for row in board:\n",
    "        print(\" \".join(\"Q\" if x == 1 else \".\" for x in row))\n",
    "    print()\n",
    "\n",
    "board = [[0 for x in range(N)] for y in range(N)]\n",
    "if not solveNQueens(board, 0):\n",
    "    print(\"No solution found\")"
   ]
  },
  {
   "cell_type": "code",
   "execution_count": null,
   "id": "51c34388-a1e7-493b-95f2-8fcf87600291",
   "metadata": {},
   "outputs": [],
   "source": []
  }
 ],
 "metadata": {
  "kernelspec": {
   "display_name": "Python 3 (ipykernel)",
   "language": "python",
   "name": "python3"
  },
  "language_info": {
   "codemirror_mode": {
    "name": "ipython",
    "version": 3
   },
   "file_extension": ".py",
   "mimetype": "text/x-python",
   "name": "python",
   "nbconvert_exporter": "python",
   "pygments_lexer": "ipython3",
   "version": "3.12.8"
  }
 },
 "nbformat": 4,
 "nbformat_minor": 5
}
